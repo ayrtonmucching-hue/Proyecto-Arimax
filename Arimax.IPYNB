{
 "cells": [
  {
   "cell_type": "code",
   "execution_count": 6,
   "id": "b6c8c443",
   "metadata": {},
   "outputs": [
    {
     "name": "stdout",
     "output_type": "stream",
     "text": [
      "        date  demand  price  promo_flag  lead_time_days  stock_on_hand  \\\n",
      "0 2020-01-01     492  10.09           1              13            246   \n",
      "1 2020-02-01     516  13.69           0              14            293   \n",
      "2 2020-03-01     474   9.71           1              10            652   \n",
      "3 2020-04-01     506  10.45           0              14            403   \n",
      "4 2020-05-01     524   9.95           1              14            417   \n",
      "\n",
      "   pos_count  stockout_flag  \n",
      "0         81              0  \n",
      "1         86              0  \n",
      "2         61              0  \n",
      "3         98              0  \n",
      "4         62              0  \n"
     ]
    }
   ],
   "source": [
    "import pandas as pd\n",
    "import openpyxl\n",
    "df = pd.read_excel(\"C:\\\\Users\\\\ayrto\\\\OneDrive\\\\Escritorio\\\\Python\\\\demand_data.xlsx\")\n",
    "print(df.head())\n"
   ]
  }
 ],
 "metadata": {
  "kernelspec": {
   "display_name": "Python 3",
   "language": "python",
   "name": "python3"
  },
  "language_info": {
   "codemirror_mode": {
    "name": "ipython",
    "version": 3
   },
   "file_extension": ".py",
   "mimetype": "text/x-python",
   "name": "python",
   "nbconvert_exporter": "python",
   "pygments_lexer": "ipython3",
   "version": "3.13.7"
  }
 },
 "nbformat": 4,
 "nbformat_minor": 5
}
